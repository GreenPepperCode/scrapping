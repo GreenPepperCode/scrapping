{
 "cells": [
  {
   "cell_type": "code",
   "execution_count": null,
   "metadata": {},
   "outputs": [],
   "source": [
    "import requests\n",
    "from bs4 import BeautifulSoup\n",
    "\n",
    "players_data = []\n",
    "for page in range(1, 11):\n",
    "    url = f\"https://www.lnb.fr/elite/stats-engine/?option=player&season=2023&competition=276&type=total&page={page}\"\n",
    "    response = requests.get(url)\n",
    "    soup = BeautifulSoup(response.text, \"html.parser\")\n",
    "\n",
    "    # Trouver le tableau contenant les données des joueurs\n",
    "    table = soup.find(\"table\", {\"class\": \"table-stats\"})\n",
    "\n",
    "    # Parcourir les lignes du tableau (à l'exception de la première ligne qui contient les en-têtes)\n",
    "    for row in table.find_all(\"tr\")[1:]:\n",
    "        cols = row.find_all(\"td\")\n",
    "        player = {\n",
    "            \"joueur\": cols[0].text,\n",
    "            \"équipe\": cols[1].text,\n",
    "            \"mj\": cols[2].text,\n",
    "            \"5d\": cols[3].text,\n",
    "            \"min\": cols[4].text,\n",
    "            \"pts\": cols[5].text,\n",
    "            \"2r\": cols[6].text,\n",
    "            \"2t\": cols[7].text,\n",
    "            \"%\": cols[8].text,\n",
    "            \"3r\": cols[9].text,\n",
    "            \"3t\": cols[10].text,\n",
    "            \"%2\": cols[11].text,\n",
    "            \"lr\": cols[12].text,\n",
    "            \"lt\": cols[13].text,\n",
    "            \"%3\": cols[14].text,\n",
    "            \"ro\": cols[15].text,\n",
    "            \"rd\": cols[16].text,\n",
    "            \"rt\": cols[17].text,\n",
    "            \"pd\": cols[18].text,\n",
    "            \"ct\": cols[19].text,\n",
    "            \"cs\": cols[20].text,\n",
    "            \"in\": cols[21].text,\n",
    "            \"bp\": cols[22].text,\n",
    "            \"fte\": cols[23].text,\n",
    "            \"fpr\": cols[24].text,\n",
    "            \"+/-\": cols[25].text,\n",
    "            \"eval\": cols[26].text\n",
    "        }\n",
    "        players_data.append(player)\n",
    "\n",
    "# Afficher les données récupérées\n",
    "print(players_data)\n"
   ]
  },
  {
   "cell_type": "code",
   "execution_count": null,
   "metadata": {},
   "outputs": [],
   "source": [
    "import csv\n",
    "\n",
    "# Ouvrir le fichier CSV en mode écriture\n",
    "with open('lnb.csv', 'w', newline='', encoding='utf-8') as csvfile:\n",
    "    writer = csv.DictWriter(csvfile, fieldnames=['joueur', 'équipe', 'mj', '5d', 'min', 'pts', '2r', '2t', '%', '3r', '3t', '%2', 'lr', 'lt', '%3', 'ro', 'rd', 'rt', 'pd', 'ct', 'cs', 'in', 'bp', 'fte', 'fpr', '+/-', 'eval'])\n",
    "\n",
    "    # Écrire l'en-tête du fichier CSV\n",
    "    writer.writeheader()\n",
    "\n",
    "    # Écrire les données de chaque joueur dans le fichier CSV\n",
    "    for player in players_data:\n",
    "        writer.writerow(player)\n"
   ]
  },
  {
   "cell_type": "code",
   "execution_count": null,
   "metadata": {},
   "outputs": [],
   "source": [
    "import pandas as pd\n",
    "\n",
    "# Charger le fichier xlsx dans un DataFrame\n",
    "df = pd.read_excel('NLB(final).xlsx')\n",
    "\n",
    "# Afficher les premières lignes du DataFrame\n",
    "print(df.head())\n"
   ]
  },
  {
   "cell_type": "code",
   "execution_count": null,
   "metadata": {},
   "outputs": [],
   "source": [
    "# Supprimer les lignes ayant moins de 5 valeurs non nulles\n",
    "df_filtered = df.dropna(thresh=5)\n",
    "\n",
    "# Afficher le DataFrame filtré\n",
    "print(df_filtered)\n"
   ]
  }
 ],
 "metadata": {
  "kernelspec": {
   "display_name": "Python 3",
   "language": "python",
   "name": "python3"
  },
  "language_info": {
   "name": "python",
   "version": "3.9.13"
  }
 },
 "nbformat": 4,
 "nbformat_minor": 2
}
